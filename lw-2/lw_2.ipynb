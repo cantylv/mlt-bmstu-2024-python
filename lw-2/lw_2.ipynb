{
  "cells": [
    {
      "cell_type": "markdown",
      "metadata": {
        "id": "SYLZ7F-6QX32"
      },
      "source": [
        "📊 Лабораторная работа №2. Обработка пропусков в данных, кодирование категориальных признаков, масштабирование данных."
      ]
    },
    {
      "cell_type": "markdown",
      "metadata": {
        "id": "b_GWS2mhYgCf"
      },
      "source": [
        "## Тема датасета: \"Топ 1000 Twitch стримеров\". Датасет взят с сайта [kaggle](https://www.kaggle.com/datasets/hibrahimag1/top-1000-twitch-streamers-data-may-2024?resource=download)."
      ]
    },
    {
      "cell_type": "code",
      "execution_count": 211,
      "metadata": {
        "id": "OOA4eTdxQayY"
      },
      "outputs": [],
      "source": [
        "# Импортируем все необходимые библиотеки для работы с данными\n",
        "import numpy as np\n",
        "import pandas as pd\n",
        "import seaborn as sns\n",
        "import matplotlib.pyplot as plt\n",
        "from sklearn.impute import SimpleImputer\n",
        "from sklearn.impute import MissingIndicator\n",
        "from sklearn.preprocessing import LabelEncoder\n",
        "from sklearn.preprocessing import OrdinalEncoder\n",
        "from sklearn.preprocessing import OneHotEncoder\n",
        "from sklearn.preprocessing import MinMaxScaler, StandardScaler, Normalizer\n",
        "%matplotlib inline\n",
        "sns.set(style=\"ticks\")"
      ]
    },
    {
      "cell_type": "markdown",
      "metadata": {
        "id": "hWwkZP6Jfhh2"
      },
      "source": [
        "#### Загрузка и первичный анализ данных"
      ]
    },
    {
      "cell_type": "code",
      "execution_count": 9,
      "metadata": {
        "id": "FIgE9kP8Yehs"
      },
      "outputs": [],
      "source": [
        "# Возьмем датасет с github\n",
        "data = pd.read_csv('https://raw.githubusercontent.com/cantylv/mlt-bmstu-2024-python/main/lw-2/dataset.csv', sep=\",\")"
      ]
    },
    {
      "cell_type": "code",
      "execution_count": null,
      "metadata": {
        "id": "6aIALwdDe_mN"
      },
      "outputs": [],
      "source": [
        "print(f\"Кол-во строк: {data.shape[0]}\")\n",
        "print(f\"Кол-во столбцов: {data.shape[1]}\")\n",
        "\n",
        "print(\"\\n\\t\\tТипы колонок:\")\n",
        "print(data.dtypes)\n",
        "\n",
        "# Проверим есть ли пропущенные значения\n",
        "print(\"\\n\\tПропущенные значения в столбцах\")\n",
        "data.isnull().sum()"
      ]
    },
    {
      "cell_type": "code",
      "execution_count": null,
      "metadata": {
        "id": "ATQyg1P9hKLU"
      },
      "outputs": [],
      "source": [
        "# Посмотрим первые 5 строк датасета\n",
        "data.head()"
      ]
    },
    {
      "cell_type": "markdown",
      "metadata": {
        "id": "0AtNrZRebKzM"
      },
      "source": [
        "#### Обработка пропусков в данных"
      ]
    },
    {
      "cell_type": "markdown",
      "metadata": {
        "id": "P4HgBhrfhwvh"
      },
      "source": [
        "Способы обратки пропусков:\n",
        "\n",
        "1.   Удаление столбцов/строк с пустыми значенями.\n",
        "2.   Заполнение пустых значений нулями (NA - пустое значение).\n",
        "3.   Внедрение значений (imputation)\n",
        "4.   \n"
      ]
    },
    {
      "cell_type": "code",
      "execution_count": 33,
      "metadata": {
        "colab": {
          "base_uri": "https://localhost:8080/"
        },
        "id": "JuBXEEjAhzXt",
        "outputId": "1d72fd8a-8dcc-404f-8229-4d161f50fc22"
      },
      "outputs": [
        {
          "data": {
            "text/plain": [
              "((999, 17), (999, 16))"
            ]
          },
          "execution_count": 33,
          "metadata": {},
          "output_type": "execute_result"
        }
      ],
      "source": [
        "# Удаление столбцов с пустыми значениями (у нас всего один столбец с пустыми значениями)\n",
        "new_data1 = data.dropna(axis=1, how='any')\n",
        "(data.shape, new_data1.shape)"
      ]
    },
    {
      "cell_type": "code",
      "execution_count": 37,
      "metadata": {
        "colab": {
          "base_uri": "https://localhost:8080/"
        },
        "id": "rWJwanL-jioE",
        "outputId": "0c615839-b594-482b-a8b1-64402e36e2bb"
      },
      "outputs": [
        {
          "data": {
            "text/plain": [
              "((999, 17), (922, 17))"
            ]
          },
          "execution_count": 37,
          "metadata": {},
          "output_type": "execute_result"
        }
      ],
      "source": [
        "# Удаление строк с пустыми значениями (у нас 77 строк с пустым значением в одном и том же столбце)\n",
        "new_data2 = data.dropna(axis=0, how='any')\n",
        "(data.shape, new_data2.shape)"
      ]
    },
    {
      "cell_type": "code",
      "execution_count": 41,
      "metadata": {
        "colab": {
          "base_uri": "https://localhost:8080/"
        },
        "id": "is6YVGHGj-5a",
        "outputId": "e7c17d0e-57c8-4a02-8d82-1a50e318ad27"
      },
      "outputs": [
        {
          "data": {
            "text/plain": [
              "((999, 17), (999, 17))"
            ]
          },
          "execution_count": 41,
          "metadata": {},
          "output_type": "execute_result"
        }
      ],
      "source": [
        "# Заполнение пустых значений нулями\n",
        "# В данном случае это будет некорректно, потому что столбец с NA - категориальный параметр (название игры)\n",
        "new_data3 = data.fillna(0)\n",
        "# Удалим все строки с NA и сравним с исходным кол-вом строк датасета\n",
        "new_data3_dropped = new_data3.dropna(axis=0, how='any')\n",
        "(data.shape, new_data3_dropped.shape)"
      ]
    },
    {
      "cell_type": "markdown",
      "metadata": {
        "id": "9VLL1XjgqJ_B"
      },
      "source": [
        "##### Поскольку в моем датасете нет пропуска в количественных признаках, воспользуемся другим датасетом для внедрения значений."
      ]
    },
    {
      "cell_type": "code",
      "execution_count": null,
      "metadata": {
        "id": "5RhdNIa5qzJI"
      },
      "outputs": [],
      "source": [
        "# Импортируем стандартный датасет библиотеки seaborn\n",
        "df_titanic = sns.load_dataset(\"titanic\")\n",
        "\n",
        "print(f\"Кол-во строк: {df_titanic.shape[0]}\")\n",
        "print(f\"Кол-во столбцов: {df_titanic.shape[1]}\")\n",
        "\n",
        "print(\"\\n\\t\\tТипы колонок:\")\n",
        "print(df_titanic.dtypes)\n",
        "\n",
        "# Проверим есть ли пропущенные значения\n",
        "print(\"\\n\\tПропущенные значения в столбцах\")\n",
        "df_titanic.isnull().sum()"
      ]
    },
    {
      "cell_type": "code",
      "execution_count": null,
      "metadata": {
        "id": "nY2zvnoswKMm"
      },
      "outputs": [],
      "source": [
        "total_count = df_titanic.shape[0]\n",
        "num_cols = []\n",
        "for col in df_titanic.columns:\n",
        "    # Количество пустых значений\n",
        "    temp_null_count = df_titanic[df_titanic[col].isnull()].shape[0]\n",
        "    dt = str(df_titanic[col].dtype)\n",
        "    if temp_null_count>0 and (dt == \"float64\" or dt == \"int64\"):\n",
        "        num_cols.append(col)\n",
        "        temp_perc = round((temp_null_count / total_count) * 100.0, 2)\n",
        "        print('Колонка {}. Тип данных {}. Количество пустых значений {}, {}%.'.format(col, dt, temp_null_count, temp_perc))\n",
        "\n",
        "data_num = df_titanic[num_cols]\n",
        "data_num"
      ]
    },
    {
      "cell_type": "code",
      "execution_count": 68,
      "metadata": {
        "colab": {
          "base_uri": "https://localhost:8080/",
          "height": 458
        },
        "id": "NDnUBLVUyJf1",
        "outputId": "6b35fce1-2831-4676-9e92-5c0f6a0e50f9"
      },
      "outputs": [
        {
          "data": {
            "image/png": "[encoded data removed]",
            "text/plain": [
              "<Figure size 640x480 with 1 Axes>"
            ]
          },
          "metadata": {},
          "output_type": "display_data"
        }
      ],
      "source": [
        "# Гистограмма по признакам\n",
        "for col in data_num:\n",
        "    plt.hist(df_titanic[col], 10)\n",
        "    plt.xlabel(col)\n",
        "    plt.show()"
      ]
    },
    {
      "cell_type": "code",
      "execution_count": null,
      "metadata": {
        "id": "D38VSyKzAu5m"
      },
      "outputs": [],
      "source": [
        "# Будем использовать встроенные средства импьютации библиотеки scikit-learn\n",
        "data_num_age = data_num[['age']]\n",
        "\n",
        "# Фильтр для проверки заполнения пустых значений\n",
        "indicator = MissingIndicator()\n",
        "mask_missing_values_only = indicator.fit_transform(data_num_age)"
      ]
    },
    {
      "cell_type": "code",
      "execution_count": 77,
      "metadata": {
        "id": "EV2wu_J4CAi3"
      },
      "outputs": [],
      "source": [
        " # Различные способы импьютации\n",
        "strategies = ['mean', 'median', 'most_frequent']\n",
        "\n",
        "def test_num_impute(strategy_param):\n",
        "    imp_num = SimpleImputer(strategy=strategy_param)\n",
        "    data_num_imp = imp_num.fit_transform(data_num_age)\n",
        "    return data_num_imp[mask_missing_values_only]"
      ]
    },
    {
      "cell_type": "code",
      "execution_count": null,
      "metadata": {
        "id": "vQGlXTWvCWXb"
      },
      "outputs": [],
      "source": [
        "strategies[0], test_num_impute(strategies[0]) # среднее значение"
      ]
    },
    {
      "cell_type": "code",
      "execution_count": null,
      "metadata": {
        "id": "2hr9SWGYCmjX"
      },
      "outputs": [],
      "source": [
        "strategies[1], test_num_impute(strategies[1]) # медиана"
      ]
    },
    {
      "cell_type": "code",
      "execution_count": null,
      "metadata": {
        "id": "eZgqkrp2C5dR"
      },
      "outputs": [],
      "source": [
        "strategies[2], test_num_impute(strategies[2]) # часто повторяющееся"
      ]
    },
    {
      "cell_type": "code",
      "execution_count": 98,
      "metadata": {
        "id": "aocISwlzDIeO"
      },
      "outputs": [],
      "source": [
        "# Более сложная функция, которая позволяет задавать колонку и вид импьютации\n",
        "def test_num_impute_col(dataset, column, strategy_param):\n",
        "    temp_data = dataset[[column]]\n",
        "\n",
        "    indicator = MissingIndicator()\n",
        "    mask_missing_values_only = indicator.fit_transform(temp_data)\n",
        "\n",
        "    imp_num = SimpleImputer(strategy=strategy_param)\n",
        "    data_num_imp = imp_num.fit_transform(temp_data)\n",
        "\n",
        "    filled_data = data_num_imp[mask_missing_values_only]\n",
        "\n",
        "    return column, strategy_param, filled_data.size, filled_data[0], filled_data[filled_data.size-1]"
      ]
    },
    {
      "cell_type": "code",
      "execution_count": null,
      "metadata": {
        "id": "8IshYwhKVXKK"
      },
      "outputs": [],
      "source": [
        "df_titanic[['age']].describe()"
      ]
    },
    {
      "cell_type": "code",
      "execution_count": 99,
      "metadata": {
        "colab": {
          "base_uri": "https://localhost:8080/"
        },
        "id": "VuFk9V9DWxmK",
        "outputId": "e81ef4b7-3193-4b41-f43c-29f03cb47008"
      },
      "outputs": [
        {
          "data": {
            "text/plain": [
              "('age', 'mean', 177, 29.69911764705882, 29.69911764705882)"
            ]
          },
          "execution_count": 99,
          "metadata": {},
          "output_type": "execute_result"
        }
      ],
      "source": [
        "test_num_impute_col(df_titanic, 'age', strategies[0]) # среднее значение"
      ]
    },
    {
      "cell_type": "code",
      "execution_count": 100,
      "metadata": {
        "colab": {
          "base_uri": "https://localhost:8080/"
        },
        "id": "tVawKBSQWzNh",
        "outputId": "927db6a7-1eb9-45a6-ff7b-1919e1a4ba38"
      },
      "outputs": [
        {
          "data": {
            "text/plain": [
              "('age', 'median', 177, 28.0, 28.0)"
            ]
          },
          "execution_count": 100,
          "metadata": {},
          "output_type": "execute_result"
        }
      ],
      "source": [
        "test_num_impute_col(df_titanic, 'age', strategies[1]) # медиана"
      ]
    },
    {
      "cell_type": "code",
      "execution_count": 101,
      "metadata": {
        "colab": {
          "base_uri": "https://localhost:8080/"
        },
        "id": "3ONbUGF-W0pP",
        "outputId": "6f38bccc-6173-4f9d-c91b-c3bef4bd9ddc"
      },
      "outputs": [
        {
          "data": {
            "text/plain": [
              "('age', 'most_frequent', 177, 24.0, 24.0)"
            ]
          },
          "execution_count": 101,
          "metadata": {},
          "output_type": "execute_result"
        }
      ],
      "source": [
        "test_num_impute_col(df_titanic, 'age', strategies[2]) # часто повторяющееся"
      ]
    },
    {
      "cell_type": "markdown",
      "metadata": {
        "id": "Su90ccroXUe9"
      },
      "source": [
        "##### Обработка пропусков в категориальных данных"
      ]
    },
    {
      "cell_type": "code",
      "execution_count": 111,
      "metadata": {
        "colab": {
          "base_uri": "https://localhost:8080/"
        },
        "id": "lTWQQqgmkCAl",
        "outputId": "63ed329e-7875-4de4-8975-4b995a8745f1"
      },
      "outputs": [
        {
          "name": "stdout",
          "output_type": "stream",
          "text": [
            "Колонка 2ND_MOST_STREAMED_GAME. Количество пустых значений 77, 7.71%.\n"
          ]
        }
      ],
      "source": [
        "# Выберем категориальные колонки с пропущенными значениями\n",
        "# Цикл по колонкам датасета\n",
        "total_count = data.shape[0]\n",
        "num_cols = []\n",
        "for col in data.columns:\n",
        "    # Количество пустых значений\n",
        "    temp_null_count = data[data[col].isnull()].shape[0]\n",
        "    dt = str(data[col].dtype)\n",
        "    if temp_null_count>0 and dt == 'object':\n",
        "        num_cols.append(col)\n",
        "        temp_perc = round((temp_null_count / total_count) * 100.0, 2)\n",
        "        print('Колонка {}. Количество пустых значений {}, {}%.'.format(col, temp_null_count, temp_perc))"
      ]
    },
    {
      "cell_type": "code",
      "execution_count": 113,
      "metadata": {
        "colab": {
          "base_uri": "https://localhost:8080/",
          "height": 204
        },
        "id": "upuMH6d0ZJDq",
        "outputId": "4618159d-bda6-4347-8d37-a0789a89a3b2"
      },
      "outputs": [
        {
          "data": {
            "application/vnd.google.colaboratory.intrinsic+json": {
              "summary": "{\n  \"name\": \"sec_game_df\",\n  \"rows\": 999,\n  \"fields\": [\n    {\n      \"column\": \"2ND_MOST_STREAMED_GAME\",\n      \"properties\": {\n        \"dtype\": \"category\",\n        \"num_unique_values\": 178,\n        \"samples\": [\n          \"PUBG: BATTLEGROUNDS\",\n          \"Overwatch\",\n          \"ARK: Survival Evolved\"\n        ],\n        \"semantic_type\": \"\",\n        \"description\": \"\"\n      }\n    }\n  ]\n}",
              "type": "dataframe",
              "variable_name": "sec_game_df"
            },
            "text/html": [
              "\n",
              "  <div id=\"df-8fa1e0cd-d93f-475e-8c06-f06545c9fbb9\" class=\"colab-df-container\">\n",
              "    <div>\n",
              "<style scoped>\n",
              "    .dataframe tbody tr th:only-of-type {\n",
              "        vertical-align: middle;\n",
              "    }\n",
              "\n",
              "    .dataframe tbody tr th {\n",
              "        vertical-align: top;\n",
              "    }\n",
              "\n",
              "    .dataframe thead th {\n",
              "        text-align: right;\n",
              "    }\n",
              "</style>\n",
              "<table border=\"1\" class=\"dataframe\">\n",
              "  <thead>\n",
              "    <tr style=\"text-align: right;\">\n",
              "      <th></th>\n",
              "      <th>2ND_MOST_STREAMED_GAME</th>\n",
              "    </tr>\n",
              "  </thead>\n",
              "  <tbody>\n",
              "    <tr>\n",
              "      <th>0</th>\n",
              "      <td>I'm Only Sleeping</td>\n",
              "    </tr>\n",
              "    <tr>\n",
              "      <th>1</th>\n",
              "      <td>NBA 2K20</td>\n",
              "    </tr>\n",
              "    <tr>\n",
              "      <th>2</th>\n",
              "      <td>I'm Only Sleeping</td>\n",
              "    </tr>\n",
              "    <tr>\n",
              "      <th>3</th>\n",
              "      <td>Just Chatting</td>\n",
              "    </tr>\n",
              "    <tr>\n",
              "      <th>4</th>\n",
              "      <td>League of Legends</td>\n",
              "    </tr>\n",
              "  </tbody>\n",
              "</table>\n",
              "</div>\n",
              "    <div class=\"colab-df-buttons\">\n",
              "\n",
              "  <div class=\"colab-df-container\">\n",
              "    <button class=\"colab-df-convert\" onclick=\"convertToInteractive('df-8fa1e0cd-d93f-475e-8c06-f06545c9fbb9')\"\n",
              "            title=\"Convert this dataframe to an interactive table.\"\n",
              "            style=\"display:none;\">\n",
              "\n",
              "  <svg xmlns=\"http://www.w3.org/2000/svg\" height=\"24px\" viewBox=\"0 -960 960 960\">\n",
              "    <path d=\"M120-120v-720h720v720H120Zm60-500h600v-160H180v160Zm220 220h160v-160H400v160Zm0 220h160v-160H400v160ZM180-400h160v-160H180v160Zm440 0h160v-160H620v160ZM180-180h160v-160H180v160Zm440 0h160v-160H620v160Z\"/>\n",
              "  </svg>\n",
              "    </button>\n",
              "\n",
              "  <style>\n",
              "    .colab-df-container {\n",
              "      display:flex;\n",
              "      gap: 12px;\n",
              "    }\n",
              "\n",
              "    .colab-df-convert {\n",
              "      background-color: #E8F0FE;\n",
              "      border: none;\n",
              "      border-radius: 50%;\n",
              "      cursor: pointer;\n",
              "      display: none;\n",
              "      fill: #1967D2;\n",
              "      height: 32px;\n",
              "      padding: 0 0 0 0;\n",
              "      width: 32px;\n",
              "    }\n",
              "\n",
              "    .colab-df-convert:hover {\n",
              "      background-color: #E2EBFA;\n",
              "      box-shadow: 0px 1px 2px rgba(60, 64, 67, 0.3), 0px 1px 3px 1px rgba(60, 64, 67, 0.15);\n",
              "      fill: #174EA6;\n",
              "    }\n",
              "\n",
              "    .colab-df-buttons div {\n",
              "      margin-bottom: 4px;\n",
              "    }\n",
              "\n",
              "    [theme=dark] .colab-df-convert {\n",
              "      background-color: #3B4455;\n",
              "      fill: #D2E3FC;\n",
              "    }\n",
              "\n",
              "    [theme=dark] .colab-df-convert:hover {\n",
              "      background-color: #434B5C;\n",
              "      box-shadow: 0px 1px 3px 1px rgba(0, 0, 0, 0.15);\n",
              "      filter: drop-shadow(0px 1px 2px rgba(0, 0, 0, 0.3));\n",
              "      fill: #FFFFFF;\n",
              "    }\n",
              "  </style>\n",
              "\n",
              "    <script>\n",
              "      const buttonEl =\n",
              "        document.querySelector('#df-8fa1e0cd-d93f-475e-8c06-f06545c9fbb9 button.colab-df-convert');\n",
              "      buttonEl.style.display =\n",
              "        google.colab.kernel.accessAllowed ? 'block' : 'none';\n",
              "\n",
              "      async function convertToInteractive(key) {\n",
              "        const element = document.querySelector('#df-8fa1e0cd-d93f-475e-8c06-f06545c9fbb9');\n",
              "        const dataTable =\n",
              "          await google.colab.kernel.invokeFunction('convertToInteractive',\n",
              "                                                    [key], {});\n",
              "        if (!dataTable) return;\n",
              "\n",
              "        const docLinkHtml = 'Like what you see? Visit the ' +\n",
              "          '<a target=\"_blank\" href=https://colab.research.google.com/notebooks/data_table.ipynb>data table notebook</a>'\n",
              "          + ' to learn more about interactive tables.';\n",
              "        element.innerHTML = '';\n",
              "        dataTable['output_type'] = 'display_data';\n",
              "        await google.colab.output.renderOutput(dataTable, element);\n",
              "        const docLink = document.createElement('div');\n",
              "        docLink.innerHTML = docLinkHtml;\n",
              "        element.appendChild(docLink);\n",
              "      }\n",
              "    </script>\n",
              "  </div>\n",
              "\n",
              "\n",
              "<div id=\"df-cb44661b-95eb-4740-8285-fced31dd3547\">\n",
              "  <button class=\"colab-df-quickchart\" onclick=\"quickchart('df-cb44661b-95eb-4740-8285-fced31dd3547')\"\n",
              "            title=\"Suggest charts\"\n",
              "            style=\"display:none;\">\n",
              "\n",
              "<svg xmlns=\"http://www.w3.org/2000/svg\" height=\"24px\"viewBox=\"0 0 24 24\"\n",
              "     width=\"24px\">\n",
              "    <g>\n",
              "        <path d=\"M19 3H5c-1.1 0-2 .9-2 2v14c0 1.1.9 2 2 2h14c1.1 0 2-.9 2-2V5c0-1.1-.9-2-2-2zM9 17H7v-7h2v7zm4 0h-2V7h2v10zm4 0h-2v-4h2v4z\"/>\n",
              "    </g>\n",
              "</svg>\n",
              "  </button>\n",
              "\n",
              "<style>\n",
              "  .colab-df-quickchart {\n",
              "      --bg-color: #E8F0FE;\n",
              "      --fill-color: #1967D2;\n",
              "      --hover-bg-color: #E2EBFA;\n",
              "      --hover-fill-color: #174EA6;\n",
              "      --disabled-fill-color: #AAA;\n",
              "      --disabled-bg-color: #DDD;\n",
              "  }\n",
              "\n",
              "  [theme=dark] .colab-df-quickchart {\n",
              "      --bg-color: #3B4455;\n",
              "      --fill-color: #D2E3FC;\n",
              "      --hover-bg-color: #434B5C;\n",
              "      --hover-fill-color: #FFFFFF;\n",
              "      --disabled-bg-color: #3B4455;\n",
              "      --disabled-fill-color: #666;\n",
              "  }\n",
              "\n",
              "  .colab-df-quickchart {\n",
              "    background-color: var(--bg-color);\n",
              "    border: none;\n",
              "    border-radius: 50%;\n",
              "    cursor: pointer;\n",
              "    display: none;\n",
              "    fill: var(--fill-color);\n",
              "    height: 32px;\n",
              "    padding: 0;\n",
              "    width: 32px;\n",
              "  }\n",
              "\n",
              "  .colab-df-quickchart:hover {\n",
              "    background-color: var(--hover-bg-color);\n",
              "    box-shadow: 0 1px 2px rgba(60, 64, 67, 0.3), 0 1px 3px 1px rgba(60, 64, 67, 0.15);\n",
              "    fill: var(--button-hover-fill-color);\n",
              "  }\n",
              "\n",
              "  .colab-df-quickchart-complete:disabled,\n",
              "  .colab-df-quickchart-complete:disabled:hover {\n",
              "    background-color: var(--disabled-bg-color);\n",
              "    fill: var(--disabled-fill-color);\n",
              "    box-shadow: none;\n",
              "  }\n",
              "\n",
              "  .colab-df-spinner {\n",
              "    border: 2px solid var(--fill-color);\n",
              "    border-color: transparent;\n",
              "    border-bottom-color: var(--fill-color);\n",
              "    animation:\n",
              "      spin 1s steps(1) infinite;\n",
              "  }\n",
              "\n",
              "  @keyframes spin {\n",
              "    0% {\n",
              "      border-color: transparent;\n",
              "      border-bottom-color: var(--fill-color);\n",
              "      border-left-color: var(--fill-color);\n",
              "    }\n",
              "    20% {\n",
              "      border-color: transparent;\n",
              "      border-left-color: var(--fill-color);\n",
              "      border-top-color: var(--fill-color);\n",
              "    }\n",
              "    30% {\n",
              "      border-color: transparent;\n",
              "      border-left-color: var(--fill-color);\n",
              "      border-top-color: var(--fill-color);\n",
              "      border-right-color: var(--fill-color);\n",
              "    }\n",
              "    40% {\n",
              "      border-color: transparent;\n",
              "      border-right-color: var(--fill-color);\n",
              "      border-top-color: var(--fill-color);\n",
              "    }\n",
              "    60% {\n",
              "      border-color: transparent;\n",
              "      border-right-color: var(--fill-color);\n",
              "    }\n",
              "    80% {\n",
              "      border-color: transparent;\n",
              "      border-right-color: var(--fill-color);\n",
              "      border-bottom-color: var(--fill-color);\n",
              "    }\n",
              "    90% {\n",
              "      border-color: transparent;\n",
              "      border-bottom-color: var(--fill-color);\n",
              "    }\n",
              "  }\n",
              "</style>\n",
              "\n",
              "  <script>\n",
              "    async function quickchart(key) {\n",
              "      const quickchartButtonEl =\n",
              "        document.querySelector('#' + key + ' button');\n",
              "      quickchartButtonEl.disabled = true;  // To prevent multiple clicks.\n",
              "      quickchartButtonEl.classList.add('colab-df-spinner');\n",
              "      try {\n",
              "        const charts = await google.colab.kernel.invokeFunction(\n",
              "            'suggestCharts', [key], {});\n",
              "      } catch (error) {\n",
              "        console.error('Error during call to suggestCharts:', error);\n",
              "      }\n",
              "      quickchartButtonEl.classList.remove('colab-df-spinner');\n",
              "      quickchartButtonEl.classList.add('colab-df-quickchart-complete');\n",
              "    }\n",
              "    (() => {\n",
              "      let quickchartButtonEl =\n",
              "        document.querySelector('#df-cb44661b-95eb-4740-8285-fced31dd3547 button');\n",
              "      quickchartButtonEl.style.display =\n",
              "        google.colab.kernel.accessAllowed ? 'block' : 'none';\n",
              "    })();\n",
              "  </script>\n",
              "</div>\n",
              "    </div>\n",
              "  </div>\n"
            ],
            "text/plain": [
              "  2ND_MOST_STREAMED_GAME\n",
              "0      I'm Only Sleeping\n",
              "1               NBA 2K20\n",
              "2      I'm Only Sleeping\n",
              "3          Just Chatting\n",
              "4      League of Legends"
            ]
          },
          "execution_count": 113,
          "metadata": {},
          "output_type": "execute_result"
        }
      ],
      "source": [
        "sec_game_df = data[['2ND_MOST_STREAMED_GAME']]\n",
        "sec_game_df.head()"
      ]
    },
    {
      "cell_type": "code",
      "execution_count": null,
      "metadata": {
        "id": "_xDDUzq_Z40o"
      },
      "outputs": [],
      "source": [
        "sec_game_df['2ND_MOST_STREAMED_GAME'].unique()"
      ]
    },
    {
      "cell_type": "code",
      "execution_count": 158,
      "metadata": {
        "colab": {
          "base_uri": "https://localhost:8080/"
        },
        "id": "jtl5c5_KaJG_",
        "outputId": "4a5b36dd-1b7e-42bc-aba3-9005da1a8b2d"
      },
      "outputs": [
        {
          "data": {
            "text/plain": [
              "(77, 1)"
            ]
          },
          "execution_count": 158,
          "metadata": {},
          "output_type": "execute_result"
        }
      ],
      "source": [
        "sec_game_df[sec_game_df['2ND_MOST_STREAMED_GAME'].isnull()].shape"
      ]
    },
    {
      "cell_type": "code",
      "execution_count": null,
      "metadata": {
        "id": "D-n80fR1aJWk"
      },
      "outputs": [],
      "source": [
        "# Импьютация наиболее частыми значениями\n",
        "method_imp = 'most_frequent'\n",
        "imp2 = SimpleImputer(missing_values=np.nan, strategy=method_imp)\n",
        "data_imp2 = imp2.fit_transform(sec_game_df)\n",
        "data_imp2"
      ]
    },
    {
      "cell_type": "code",
      "execution_count": null,
      "metadata": {
        "id": "A3udc7QYaED4"
      },
      "outputs": [],
      "source": [
        "# Пустые значения отсутствуют\n",
        "np.unique(data_imp2)"
      ]
    },
    {
      "cell_type": "code",
      "execution_count": null,
      "metadata": {
        "id": "Ub_cFrGndxL9"
      },
      "outputs": [],
      "source": [
        "# Импьютация константой\n",
        "imp3 = SimpleImputer(missing_values=np.nan, strategy='constant', fill_value='NA')\n",
        "data_imp3 = imp3.fit_transform(sec_game_df)\n",
        "data_imp3"
      ]
    },
    {
      "cell_type": "code",
      "execution_count": 162,
      "metadata": {
        "colab": {
          "base_uri": "https://localhost:8080/"
        },
        "id": "4bepCCWWd6eA",
        "outputId": "1759dfe9-8ea4-40c6-8a83-7ad2adf58baa"
      },
      "outputs": [
        {
          "data": {
            "text/plain": [
              "True"
            ]
          },
          "execution_count": 162,
          "metadata": {},
          "output_type": "execute_result"
        }
      ],
      "source": [
        "'NA' in np.unique(data_imp3)"
      ]
    },
    {
      "cell_type": "code",
      "execution_count": 166,
      "metadata": {
        "colab": {
          "base_uri": "https://localhost:8080/"
        },
        "id": "CTeDlV6zd--K",
        "outputId": "d7c17284-d6c1-4a36-f8ee-99881ce11ac5"
      },
      "outputs": [
        {
          "data": {
            "text/plain": [
              "77"
            ]
          },
          "execution_count": 166,
          "metadata": {},
          "output_type": "execute_result"
        }
      ],
      "source": [
        "data_imp3[data_imp3=='NA'].size"
      ]
    },
    {
      "cell_type": "markdown",
      "metadata": {
        "id": "-_vIRO9heRLB"
      },
      "source": [
        "#### Преобразование категориальных признаков в числовые"
      ]
    },
    {
      "cell_type": "markdown",
      "metadata": {
        "id": "bqgSfAtNeus6"
      },
      "source": [
        "Кодирование категорий целочисленными значениями (label encoding)\n",
        "\n",
        "\n",
        "1.   LabelEncoder\n",
        "2.   OrdinalEncoder\n",
        "\n"
      ]
    },
    {
      "cell_type": "code",
      "execution_count": null,
      "metadata": {
        "id": "GiRPRjePiGAJ"
      },
      "outputs": [],
      "source": [
        "cat_enc = pd.DataFrame({'c1':data_imp2.T[0]})\n",
        "cat_enc"
      ]
    },
    {
      "cell_type": "markdown",
      "metadata": {
        "id": "xsu_Ud7dgpRB"
      },
      "source": [
        "##### Использование OrdinalEncoder"
      ]
    },
    {
      "cell_type": "code",
      "execution_count": null,
      "metadata": {
        "id": "WR8DOXPfevIr"
      },
      "outputs": [],
      "source": [
        "data_oe = data[['DAY_WITH_MOST_FOLLOWERS_GAINED', 'MOST_ACTIVE_DAY', 'MOST_STREAMED_GAME', '2ND_MOST_STREAMED_GAME', 'LANGUAGE', 'TYPE']]\n",
        "data_oe.head()"
      ]
    },
    {
      "cell_type": "code",
      "execution_count": null,
      "metadata": {
        "id": "6NmFKGxegARW"
      },
      "outputs": [],
      "source": [
        "imp4 = SimpleImputer(missing_values=np.nan, strategy='constant', fill_value='NA')\n",
        "data_oe_filled = imp4.fit_transform(data_oe)\n",
        "data_oe_filled"
      ]
    },
    {
      "cell_type": "code",
      "execution_count": null,
      "metadata": {
        "id": "zy91My1ggako"
      },
      "outputs": [],
      "source": [
        "oe = OrdinalEncoder()\n",
        "cat_enc_oe = oe.fit_transform(data_oe_filled)\n",
        "cat_enc_oe"
      ]
    },
    {
      "cell_type": "code",
      "execution_count": 177,
      "metadata": {
        "colab": {
          "base_uri": "https://localhost:8080/"
        },
        "id": "HidKXLxBgvBe",
        "outputId": "7520efd0-7573-4f9d-e3fe-88b217b59c60"
      },
      "outputs": [
        {
          "data": {
            "text/plain": [
              "array([0., 1., 2., 3., 4., 5., 6.])"
            ]
          },
          "execution_count": 177,
          "metadata": {},
          "output_type": "execute_result"
        }
      ],
      "source": [
        "# Уникальные значения 1 признака\n",
        "np.unique(cat_enc_oe[:, 0])"
      ]
    },
    {
      "cell_type": "code",
      "execution_count": 178,
      "metadata": {
        "colab": {
          "base_uri": "https://localhost:8080/"
        },
        "id": "4s5CY8Ndguuf",
        "outputId": "c36bc430-329b-4807-8279-3e089aaad09f"
      },
      "outputs": [
        {
          "data": {
            "text/plain": [
              "array([0., 1., 2., 3., 4., 5., 6.])"
            ]
          },
          "execution_count": 178,
          "metadata": {},
          "output_type": "execute_result"
        }
      ],
      "source": [
        "# Уникальные значения 2 признака\n",
        "np.unique(cat_enc_oe[:, 1])"
      ]
    },
    {
      "cell_type": "code",
      "execution_count": null,
      "metadata": {
        "id": "xqD604HBgysu"
      },
      "outputs": [],
      "source": [
        "# Уникальные значения 3 признака\n",
        "np.unique(cat_enc_oe[:, 2])"
      ]
    },
    {
      "cell_type": "code",
      "execution_count": null,
      "metadata": {
        "id": "07FQBf9BgyqA"
      },
      "outputs": [],
      "source": [
        "# Уникальные значения 4 признака\n",
        "np.unique(cat_enc_oe[:, 3])"
      ]
    },
    {
      "cell_type": "code",
      "execution_count": 181,
      "metadata": {
        "colab": {
          "base_uri": "https://localhost:8080/"
        },
        "id": "ILK7fn4PgymL",
        "outputId": "564c9591-0a7f-4fc3-a37d-2b892f2b1a36"
      },
      "outputs": [
        {
          "data": {
            "text/plain": [
              "array([ 0.,  1.,  2.,  3.,  4.,  5.,  6.,  7.,  8.,  9., 10., 11., 12.,\n",
              "       13., 14., 15., 16., 17., 18.])"
            ]
          },
          "execution_count": 181,
          "metadata": {},
          "output_type": "execute_result"
        }
      ],
      "source": [
        "# Уникальные значения 5 признака\n",
        "np.unique(cat_enc_oe[:, 4])"
      ]
    },
    {
      "cell_type": "code",
      "execution_count": 182,
      "metadata": {
        "colab": {
          "base_uri": "https://localhost:8080/"
        },
        "id": "BojUFf5Xgyb_",
        "outputId": "c8322da3-29d8-4f75-e083-b9a8566f2be7"
      },
      "outputs": [
        {
          "data": {
            "text/plain": [
              "array([0., 1.])"
            ]
          },
          "execution_count": 182,
          "metadata": {},
          "output_type": "execute_result"
        }
      ],
      "source": [
        "# Уникальные значения 6 признака\n",
        "np.unique(cat_enc_oe[:, 5])"
      ]
    },
    {
      "cell_type": "code",
      "execution_count": null,
      "metadata": {
        "id": "d08hWS74hVsA"
      },
      "outputs": [],
      "source": [
        "# Наименования категорий в соответствии с порядковыми номерами\n",
        "oe.categories_"
      ]
    },
    {
      "cell_type": "code",
      "execution_count": 186,
      "metadata": {
        "colab": {
          "base_uri": "https://localhost:8080/"
        },
        "id": "CvD8OH7XhV0A",
        "outputId": "c92ff9ec-178e-4ac9-d34e-f3f5efd0ed48"
      },
      "outputs": [
        {
          "data": {
            "text/plain": [
              "array([['Saturday', 'Friday', 'Just Chatting', \"I'm Only Sleeping\",\n",
              "        'English', 'personality'],\n",
              "       ['Sunday', 'Tuesday', \"Tom Clancy's Rainbow Six Siege\",\n",
              "        'NBA 2K20', 'English', 'personality'],\n",
              "       ['Sunday', 'Thursday', 'League of Legends', \"I'm Only Sleeping\",\n",
              "        'English', 'personality'],\n",
              "       ...,\n",
              "       ['Thursday', 'Thursday', 'Virtual Casino', 'Slots', 'Portuguese',\n",
              "        'personality'],\n",
              "       ['Monday', 'Tuesday', 'Apex Legends', 'Z1: Battle Royale',\n",
              "        'English', 'personality'],\n",
              "       ['Sunday', 'Tuesday', 'Minecraft', 'Just Chatting', 'English',\n",
              "        'personality']], dtype=object)"
            ]
          },
          "execution_count": 186,
          "metadata": {},
          "output_type": "execute_result"
        }
      ],
      "source": [
        "# Обратное преобразование\n",
        "oe.inverse_transform(cat_enc_oe)"
      ]
    },
    {
      "cell_type": "markdown",
      "metadata": {
        "id": "VoBbVUuahORT"
      },
      "source": [
        "##### Использование LabelEncoder"
      ]
    },
    {
      "cell_type": "code",
      "execution_count": null,
      "metadata": {
        "id": "YMfF4g3_h3oX"
      },
      "outputs": [],
      "source": [
        "cat_enc['c1'].unique()"
      ]
    },
    {
      "cell_type": "code",
      "execution_count": null,
      "metadata": {
        "id": "1ov6ddcwiOnf"
      },
      "outputs": [],
      "source": [
        "le = LabelEncoder()\n",
        "cat_enc_le = le.fit_transform(cat_enc['c1'])"
      ]
    },
    {
      "cell_type": "code",
      "execution_count": null,
      "metadata": {
        "id": "ey2gBv6GiY88"
      },
      "outputs": [],
      "source": [
        "# Наименования категорий в соответствии с порядковыми номерами\n",
        "\n",
        "# Свойство называется classes, потому что предполагается что мы решаем\n",
        "# задачу классификации и каждое значение категории соответствует\n",
        "# какому-либо классу целевого признака\n",
        "\n",
        "le.classes_"
      ]
    },
    {
      "cell_type": "code",
      "execution_count": null,
      "metadata": {
        "id": "xMp22IKVijH9"
      },
      "outputs": [],
      "source": [
        "cat_enc_le"
      ]
    },
    {
      "cell_type": "code",
      "execution_count": null,
      "metadata": {
        "id": "56j-Weswixui"
      },
      "outputs": [],
      "source": [
        "np.unique(cat_enc_le)"
      ]
    },
    {
      "cell_type": "markdown",
      "metadata": {
        "id": "bIb2V0Olj_hY"
      },
      "source": [
        "#### Кодирование категорий наборами бинарных значений - one-hot encoding"
      ]
    },
    {
      "cell_type": "code",
      "execution_count": 204,
      "metadata": {
        "colab": {
          "base_uri": "https://localhost:8080/"
        },
        "id": "wLlUjTuRkFKS",
        "outputId": "8db368da-3162-48a3-9049-5f13b0c3f976"
      },
      "outputs": [
        {
          "data": {
            "text/plain": [
              "(999, 178)"
            ]
          },
          "execution_count": 204,
          "metadata": {},
          "output_type": "execute_result"
        }
      ],
      "source": [
        "ohe = OneHotEncoder()\n",
        "cat_enc_ohe = ohe.fit_transform(cat_enc[['c1']])\n",
        "\n",
        "cat_enc_ohe.shape # 178 разных игр (каждое уникальное значение признака становится новым отдельным признаком)"
      ]
    },
    {
      "cell_type": "code",
      "execution_count": 203,
      "metadata": {
        "colab": {
          "base_uri": "https://localhost:8080/"
        },
        "id": "V8YaDyNRkhoZ",
        "outputId": "b7486520-b73b-4f90-efb7-1ae3d3301083"
      },
      "outputs": [
        {
          "data": {
            "text/plain": [
              "(999, 1)"
            ]
          },
          "execution_count": 203,
          "metadata": {},
          "output_type": "execute_result"
        }
      ],
      "source": [
        "cat_enc.shape"
      ]
    },
    {
      "cell_type": "markdown",
      "metadata": {
        "id": "E0x6vCbWlBpI"
      },
      "source": [
        "##### Pandas get_dummies - быстрый вариант one-hot кодирования"
      ]
    },
    {
      "cell_type": "code",
      "execution_count": null,
      "metadata": {
        "id": "76Bfs8PxlDHX"
      },
      "outputs": [],
      "source": [
        "pd.get_dummies(cat_enc).head()"
      ]
    },
    {
      "cell_type": "code",
      "execution_count": null,
      "metadata": {
        "id": "cPf2Q0NSlI81"
      },
      "outputs": [],
      "source": [
        "pd.get_dummies(sec_game_df, dummy_na=True).head()"
      ]
    },
    {
      "cell_type": "markdown",
      "metadata": {
        "id": "DjbqEPqHl0GS"
      },
      "source": [
        "#### Масштабирование данных"
      ]
    },
    {
      "cell_type": "code",
      "execution_count": null,
      "metadata": {
        "id": "v7J3syTmmAyv"
      },
      "outputs": [],
      "source": [
        "sc1 = MinMaxScaler() # приводит значения к диапазону [0, 1]\n",
        "sc1_data = sc1.fit_transform(data[['FOLLOWERS_GAINED_PER_STREAM']])"
      ]
    },
    {
      "cell_type": "code",
      "execution_count": null,
      "metadata": {
        "id": "AGbevM5Wmgbe"
      },
      "outputs": [],
      "source": [
        "plt.hist(data['FOLLOWERS_GAINED_PER_STREAM'], 50)\n",
        "plt.show()"
      ]
    },
    {
      "cell_type": "code",
      "execution_count": null,
      "metadata": {
        "collapsed": true,
        "id": "QCSzbZ9tmx6M"
      },
      "outputs": [],
      "source": [
        "plt.hist(sc1_data, 50)\n",
        "plt.show()"
      ]
    },
    {
      "cell_type": "markdown",
      "metadata": {
        "id": "AorxGWTAm84V"
      },
      "source": [
        "##### Масштабирование данных на основе Z-оценки - StandardScaler"
      ]
    },
    {
      "cell_type": "code",
      "execution_count": 218,
      "metadata": {
        "id": "gXfoM8GRnAwL"
      },
      "outputs": [],
      "source": [
        "sc2 = StandardScaler()\n",
        "sc2_data = sc2.fit_transform(data[['FOLLOWERS_GAINED_PER_STREAM']])"
      ]
    },
    {
      "cell_type": "code",
      "execution_count": null,
      "metadata": {
        "id": "3_sgBjq0nDOv"
      },
      "outputs": [],
      "source": [
        "plt.hist(sc2_data, 50)\n",
        "plt.show()"
      ]
    }
  ],
  "metadata": {
    "colab": {
      "collapsed_sections": [
        "0AtNrZRebKzM",
        "9VLL1XjgqJ_B",
        "Su90ccroXUe9",
        "-_vIRO9heRLB",
        "xsu_Ud7dgpRB",
        "bIb2V0Olj_hY"
      ],
      "provenance": []
    },
    "kernelspec": {
      "display_name": "Python 3",
      "name": "python3"
    },
    "language_info": {
      "name": "python"
    }
  },
  "nbformat": 4,
  "nbformat_minor": 0
}
