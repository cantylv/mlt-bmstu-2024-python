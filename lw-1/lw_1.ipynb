{
  "cells": [
    {
      "cell_type": "markdown",
      "metadata": {
        "id": "8rqmm-tartTR"
      },
      "source": [
        "📊 Лабораторная работа №1. Разведочный анализ данных. Исследование и визуализация данных."
      ]
    },
    {
      "cell_type": "markdown",
      "metadata": {
        "id": "pnnyjdv-sL04"
      },
      "source": [
        "## Тема датасета: \"Вино\". Встроенный датасет библиотеки Scikit-learn."
      ]
    },
    {
      "cell_type": "code",
      "execution_count": 2,
      "metadata": {
        "id": "53Sq60Tpe1FK"
      },
      "outputs": [],
      "source": [
        "# Импортируем все необходимые библиотеки для работы с данными и визуализацией\n",
        "import pandas as pd\n",
        "import numpy as np\n",
        "from sklearn.datasets import load_wine\n",
        "import matplotlib.pyplot as plt\n",
        "import seaborn as sns\n",
        "%matplotlib inline"
      ]
    },
    {
      "cell_type": "markdown",
      "metadata": {
        "id": "ze1oZTTuPaqd"
      },
      "source": [
        "## Опишем характеристики выбранного датасета"
      ]
    },
    {
      "cell_type": "code",
      "execution_count": 3,
      "metadata": {
        "colab": {
          "base_uri": "https://localhost:8080/"
        },
        "collapsed": true,
        "id": "v-ZjCz4lu2G4",
        "outputId": "f72aec76-66ec-4c1a-ee63-4d4b914a423a"
      },
      "outputs": [
        {
          "name": "stdout",
          "output_type": "stream",
          "text": [
            "Имена столбцов таблицы: ['alcohol', 'malic_acid', 'ash', 'alcalinity_of_ash', 'magnesium', 'total_phenols', 'flavanoids', 'nonflavanoid_phenols', 'proanthocyanins', 'color_intensity', 'hue', 'od280/od315_of_diluted_wines', 'proline']\n",
            "Кол-во столбцов в таблице: 13\n",
            "Кол-во строк в таблице: 178\n"
          ]
        }
      ],
      "source": [
        "data = load_wine(as_frame=True)\n",
        "\n",
        "# Выводит полное описание датасета\n",
        "# print(data.DESCR)\n",
        "\n",
        "print(f\"Имена столбцов таблицы: {data.feature_names}\")\n",
        "print(f\"Кол-во столбцов в таблице: {len(data.feature_names)}\")\n",
        "print(f\"Кол-во строк в таблице: {len(data.data)}\")"
      ]
    },
    {
      "cell_type": "markdown",
      "metadata": {
        "id": "mmrlKgo4Ph20"
      },
      "source": [
        "## Визуальное исследование датасета"
      ]
    },
    {
      "cell_type": "markdown",
      "metadata": {
        "id": "gMx5cEvFtyPr"
      },
      "source": [
        "#### Исследование зависимости процента алкоголя от других характеристик в вине. Используем `matplotlib` и `seaborn` для визуализации.\n",
        "\n"
      ]
    },
    {
      "cell_type": "code",
      "execution_count": null,
      "metadata": {
        "id": "dHC73PXDPrNx"
      },
      "outputs": [],
      "source": [
        "# зависимость процента алкоголя от яблочной кислоты в вине (хаотичная зависимость)\n",
        "fig, ax = plt.subplots(figsize=(5,5))\n",
        "sns.scatterplot(ax=ax, x='alcohol', y='malic_acid', data=data.frame)"
      ]
    },
    {
      "cell_type": "code",
      "execution_count": null,
      "metadata": {
        "id": "Z5n5CSmjrcV7"
      },
      "outputs": [],
      "source": [
        "# зависимость процента алкоголя от золы в вине (хаотичная зависимость)\n",
        "fig, ax = plt.subplots(figsize=(5,5))\n",
        "sns.scatterplot(ax=ax, x='alcohol', y='ash', data=data.frame)"
      ]
    },
    {
      "cell_type": "code",
      "execution_count": null,
      "metadata": {
        "id": "L3PALvB1rqJN"
      },
      "outputs": [],
      "source": [
        "# зависимость процента алкоголя от щелочности золы в вине (хаотичная зависимость)\n",
        "fig, ax = plt.subplots(figsize=(5,5))\n",
        "sns.scatterplot(ax=ax, x='alcohol', y='alcalinity_of_ash', data=data.frame)"
      ]
    },
    {
      "cell_type": "code",
      "execution_count": null,
      "metadata": {
        "id": "HelEk9EIr6X-"
      },
      "outputs": [],
      "source": [
        "# зависимость процента алкоголя от содержания магния в вине (хаотичная зависимость)\n",
        "fig, ax = plt.subplots(figsize=(5,5))\n",
        "sns.scatterplot(ax=ax, x='alcohol', y='magnesium', data=data.frame)"
      ]
    },
    {
      "cell_type": "code",
      "execution_count": null,
      "metadata": {
        "id": "X2PSd8jsr6fh"
      },
      "outputs": [],
      "source": [
        "# зависимость процента алкоголя от содержания фенольных соединений в вине (хаотичная зависимость)\n",
        "fig, ax = plt.subplots(figsize=(5,5))\n",
        "sns.scatterplot(ax=ax, x='alcohol', y='total_phenols', data=data.frame)"
      ]
    },
    {
      "cell_type": "code",
      "execution_count": null,
      "metadata": {
        "id": "8nTl7YJIr6tW"
      },
      "outputs": [],
      "source": [
        "# зависимость процента алкоголя от флаваноидов в вине (хаотичная зависимость)\n",
        "fig, ax = plt.subplots(figsize=(5,5))\n",
        "sns.scatterplot(ax=ax, x='alcohol', y='flavanoids', data=data.frame)"
      ]
    },
    {
      "cell_type": "code",
      "execution_count": null,
      "metadata": {
        "id": "t4xYmZPqsb71"
      },
      "outputs": [],
      "source": [
        "# зависимость процента алкоголя от содержания нефлавоноидных фенольных соединений в вине (хаотичная зависимость)\n",
        "fig, ax = plt.subplots(figsize=(5,5))\n",
        "sns.scatterplot(ax=ax, x='alcohol', y='nonflavanoid_phenols', data=data.frame)"
      ]
    },
    {
      "cell_type": "code",
      "execution_count": null,
      "metadata": {
        "id": "3OPzkMNBsrze"
      },
      "outputs": [],
      "source": [
        "# зависимость процента алкоголя от содержания проантоцианидинов в вине (хаотичная зависимость)\n",
        "fig, ax = plt.subplots(figsize=(5,5))\n",
        "sns.scatterplot(ax=ax, x='alcohol', y='proanthocyanins', data=data.frame)"
      ]
    },
    {
      "cell_type": "code",
      "execution_count": null,
      "metadata": {
        "id": "i2W38a3ksr-X"
      },
      "outputs": [],
      "source": [
        "# зависимость процента алкоголя от интенсивности цвета в вине (хаотичная зависимость)\n",
        "fig, ax = plt.subplots(figsize=(5,5))\n",
        "sns.scatterplot(ax=ax, x='alcohol', y='color_intensity', data=data.frame)"
      ]
    },
    {
      "cell_type": "code",
      "execution_count": null,
      "metadata": {
        "id": "05VHs-pTtR1Q"
      },
      "outputs": [],
      "source": [
        "# зависимость процента алкоголя от пролина в вине (хаотичная зависимость)\n",
        "fig, ax = plt.subplots(figsize=(5,5))\n",
        "sns.scatterplot(ax=ax, x='alcohol', y='proline', data=data.frame)"
      ]
    },
    {
      "cell_type": "code",
      "execution_count": null,
      "metadata": {
        "id": "5StEnT81vCLS"
      },
      "outputs": [],
      "source": [
        "# зависимость процента алкоголя от оттенка цвета (хаотичная зависимость)\n",
        "fig, ax = plt.subplots(figsize=(5,5))\n",
        "sns.scatterplot(ax=ax, x='alcohol', y='hue', data=data.frame)"
      ]
    },
    {
      "cell_type": "markdown",
      "metadata": {
        "id": "udYTRbOyum__"
      },
      "source": [
        "#### Прочие интересные зависимости."
      ]
    },
    {
      "cell_type": "code",
      "execution_count": null,
      "metadata": {
        "id": "dup7MJ8UusD6"
      },
      "outputs": [],
      "source": [
        "# зависимость магния от интенсивности цвета (хаотичная зависимость)\n",
        "fig, ax = plt.subplots(figsize=(5,5))\n",
        "sns.scatterplot(ax=ax, x='magnesium', y='color_intensity', data=data.frame)"
      ]
    },
    {
      "cell_type": "code",
      "execution_count": null,
      "metadata": {
        "id": "G1UPamhyvKX_"
      },
      "outputs": [],
      "source": [
        "# зависимость магния от оттенка цвета (хаотичная зависимость)\n",
        "fig, ax = plt.subplots(figsize=(5,5))\n",
        "sns.scatterplot(ax=ax, x='magnesium', y='hue', data=data.frame)"
      ]
    },
    {
      "cell_type": "markdown",
      "metadata": {
        "id": "f6TOdQrzvgOD"
      },
      "source": [
        "#### Вычислим матрицу корреляции, чтобы найти линейные зависимости величин друг от друга"
      ]
    },
    {
      "cell_type": "code",
      "execution_count": null,
      "metadata": {
        "id": "AxS4sKtivn6e"
      },
      "outputs": [],
      "source": [
        "# Вычисление матрицы корреляции\n",
        "corr_matrix = data.data.corr()\n",
        "\n",
        "# Визуализация матрицы корреляции\n",
        "plt.figure(figsize=(12, 10))\n",
        "sns.heatmap(corr_matrix, annot=True, cmap='YlOrRd')\n",
        "plt.title('Матрица корреляции признаков вина')\n",
        "plt.show()"
      ]
    },
    {
      "cell_type": "markdown",
      "metadata": {
        "id": "f28kabMlw4wL"
      },
      "source": [
        "Исходя из матрицы корреляции, можем заключить, что:\n",
        "1. Между фенольными соединениями и флаваноидами существует почти линейная связь.\n",
        "2. Между фенольными соединениями и OD280/OD315 существует почти линейная связь.\n",
        "3. Между флаваноидами и OD280/OD315 существуте более линейная связь, чем в пункте 2.\n",
        "\n"
      ]
    },
    {
      "cell_type": "code",
      "execution_count": null,
      "metadata": {
        "id": "6L71NBjkwM73"
      },
      "outputs": [],
      "source": [
        "# Построим диаграмму рассеивания, показывающую зависимость фенольных соединений от флаваноидов (почти что линейная зависимость)\n",
        "fig, ax = plt.subplots(figsize=(5,5))\n",
        "sns.scatterplot(ax=ax, x='total_phenols', y='flavanoids', data=data.frame)\n",
        "# Для большого кол-ва признаков используют солнечную корреляционную карту"
      ]
    },
    {
      "cell_type": "markdown",
      "metadata": {
        "id": "x66K5ar9ynFq"
      },
      "source": [
        "### Построим другие графики для более полной визуализации данных."
      ]
    },
    {
      "cell_type": "markdown",
      "metadata": {
        "id": "ycVBusIe0pcH"
      },
      "source": [
        "##### Гистограммы"
      ]
    },
    {
      "cell_type": "code",
      "execution_count": null,
      "metadata": {
        "id": "XpSbk6IHykhJ"
      },
      "outputs": [],
      "source": [
        "# Гистограмма распределения алкоголя в датасете\n",
        "fig, ax = plt.subplots(figsize=(10,10))\n",
        "sns.distplot(data.data['alcohol'])"
      ]
    },
    {
      "cell_type": "code",
      "execution_count": null,
      "metadata": {
        "id": "M1e_9nkN0aPM"
      },
      "outputs": [],
      "source": [
        "# Гистограмма распределения магнезии в датасете\n",
        "fig, ax = plt.subplots(figsize=(10,10))\n",
        "sns.distplot(data.data['magnesium'])"
      ]
    },
    {
      "cell_type": "markdown",
      "metadata": {
        "id": "SSKEjuer0tkL"
      },
      "source": [
        "##### Объединенные графики (jointplot)"
      ]
    },
    {
      "cell_type": "code",
      "execution_count": null,
      "metadata": {
        "id": "CfU42qnc02EM"
      },
      "outputs": [],
      "source": [
        "sns.jointplot(x='total_phenols', y='flavanoids', data=data.data)"
      ]
    },
    {
      "cell_type": "code",
      "execution_count": null,
      "metadata": {
        "id": "fxsZ0GaX1YHQ"
      },
      "outputs": [],
      "source": [
        "sns.jointplot(x='total_phenols', y='flavanoids', data=data.data, kind='hex')"
      ]
    },
    {
      "cell_type": "code",
      "execution_count": null,
      "metadata": {
        "id": "Jg8tVNkO2Xkn"
      },
      "outputs": [],
      "source": [
        "sns.jointplot(x='total_phenols', y='flavanoids', data=data.data, kind=\"kde\")"
      ]
    },
    {
      "cell_type": "markdown",
      "metadata": {
        "id": "qJD2MnKy2hp-"
      },
      "source": [
        " ##### Парные диаграммы (pairplot)"
      ]
    },
    {
      "cell_type": "code",
      "execution_count": null,
      "metadata": {
        "id": "4fv1cgbx2mOq"
      },
      "outputs": [],
      "source": [
        "sns.pairplot(data=data.data)"
      ]
    },
    {
      "cell_type": "code",
      "execution_count": null,
      "metadata": {
        "id": "u7qISKA93liq"
      },
      "outputs": [],
      "source": [
        "# Сгруппируем по значению признака alcohol\n",
        "sns.pairplot(data=data.data, hue=\"alcohol\")"
      ]
    },
    {
      "cell_type": "markdown",
      "metadata": {
        "id": "ma_pHQ-k39Ps"
      },
      "source": [
        "##### Ящик с усами (boxplot)"
      ]
    },
    {
      "cell_type": "code",
      "execution_count": null,
      "metadata": {
        "id": "kGtONauZ4UUr"
      },
      "outputs": [],
      "source": [
        "sns.boxplot(x=data.data['alcohol'])"
      ]
    },
    {
      "cell_type": "markdown",
      "metadata": {
        "id": "F8h1M5ny4tVj"
      },
      "source": [
        "##### Распределение вероятности (Violin plot)"
      ]
    },
    {
      "cell_type": "code",
      "execution_count": null,
      "metadata": {
        "id": "F6xAgl3d4zIT"
      },
      "outputs": [],
      "source": [
        "sns.violinplot(x=data.data['alcohol'])"
      ]
    }
  ],
  "metadata": {
    "colab": {
      "collapsed_sections": [
        "pnnyjdv-sL04",
        "gMx5cEvFtyPr",
        "udYTRbOyum__",
        "f6TOdQrzvgOD",
        "x66K5ar9ynFq",
        "ycVBusIe0pcH",
        "SSKEjuer0tkL",
        "qJD2MnKy2hp-",
        "ma_pHQ-k39Ps",
        "F8h1M5ny4tVj"
      ],
      "provenance": []
    },
    "kernelspec": {
      "display_name": "Python 3",
      "name": "python3"
    },
    "language_info": {
      "name": "python"
    }
  },
  "nbformat": 4,
  "nbformat_minor": 0
}
